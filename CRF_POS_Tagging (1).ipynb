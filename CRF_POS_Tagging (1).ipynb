{
  "cells": [
    {
      "cell_type": "markdown",
      "metadata": {
        "id": "dz9NEDdlNXOa"
      },
      "source": [
        "# HMM POS TAGGING"
      ]
    },
    {
      "cell_type": "code",
      "execution_count": null,
      "metadata": {
        "id": "zi64qxvRNW6x"
      },
      "outputs": [],
      "source": [
        "import nltk\n",
        "import numpy as np\n",
        "import math\n",
        "from collections import Counter\n",
        "from collections import defaultdict\n",
        "from sklearn.model_selection import KFold\n",
        "import matplotlib.pyplot as plt\n",
        "from sklearn.metrics import accuracy_score"
      ]
    },
    {
      "cell_type": "code",
      "execution_count": null,
      "metadata": {
        "colab": {
          "base_uri": "https://localhost:8080/"
        },
        "id": "1dKtY60iWBhN",
        "outputId": "011741ff-29d2-49c9-c72e-5287f7fc48eb"
      },
      "outputs": [
        {
          "name": "stderr",
          "output_type": "stream",
          "text": [
            "[nltk_data] Downloading package universal_tagset to /root/nltk_data...\n",
            "[nltk_data]   Package universal_tagset is already up-to-date!\n"
          ]
        },
        {
          "data": {
            "text/plain": [
              "True"
            ]
          },
          "execution_count": 2,
          "metadata": {},
          "output_type": "execute_result"
        }
      ],
      "source": [
        "nltk.download('universal_tagset')"
      ]
    },
    {
      "cell_type": "code",
      "execution_count": null,
      "metadata": {
        "id": "-ELqWWiLNW4b"
      },
      "outputs": [],
      "source": [
        "start= '^'\n",
        "end= '$'\n",
        "tagged_sentences = nltk.corpus.brown.tagged_sents(tagset='universal')\n",
        "result=[]\n",
        "for i in range(len(tagged_sentences)):\n",
        "    temp=[]\n",
        "    sentence = tagged_sentences[i]\n",
        "    temp.append((start,start))\n",
        "    for word,tag in sentence:\n",
        "        temp.append((word.lower(),tag))\n",
        "    temp.append((end,end))\n",
        "    result.append(temp)\n",
        "\n",
        "tagged_sentences = result"
      ]
    },
    {
      "cell_type": "code",
      "execution_count": null,
      "metadata": {
        "id": "5FFio_R6NW2A"
      },
      "outputs": [],
      "source": [
        "def Training(sentences):\n",
        "    list_of_all_tuples = []\n",
        "    for sentence in sentences:\n",
        "        for word,tag in sentence:\n",
        "            list_of_all_tuples.append((word,tag))\n",
        "    POS_tag_counts = Counter(tag for word,tag in list_of_all_tuples)\n",
        "    word_pos_tags = defaultdict(Counter)\n",
        "    for word,pos_tag in list_of_all_tuples:\n",
        "        word_pos_tags[word][pos_tag]+=1\n",
        "    Tag_transition_count = defaultdict(Counter)\n",
        "    for sentence in sentences:\n",
        "        for i in range(len(sentence)-1):\n",
        "            Tag_transition_count[sentence[i][1]][sentence[i+1][1]]+=1\n",
        "\n",
        "    return POS_tag_counts,word_pos_tags,Tag_transition_count"
      ]
    },
    {
      "cell_type": "code",
      "execution_count": null,
      "metadata": {
        "id": "p3XUKWe1NWzh"
      },
      "outputs": [],
      "source": [
        "def transition_probability(tag1,tag2,POS_tag_counts,Tag_transition_count):\n",
        "    tag1_tag2 = Tag_transition_count[tag1][tag2]\n",
        "    tag1_total = POS_tag_counts[tag1]\n",
        "    res = (tag1_tag2) / (tag1_total)\n",
        "    if(res==0):\n",
        "        res = 10**-9\n",
        "    return res"
      ]
    },
    {
      "cell_type": "code",
      "execution_count": null,
      "metadata": {
        "id": "Kynw_t3fNWv0"
      },
      "outputs": [],
      "source": [
        "def lexical_probability(word,tag,POS_tag_counts,word_pos_tags):\n",
        "    word_tag = word_pos_tags[word][tag]\n",
        "    tag_total = POS_tag_counts[tag]\n",
        "    res = (word_tag+1)/(tag_total+len(word_pos_tags))\n",
        "    return res"
      ]
    },
    {
      "cell_type": "code",
      "execution_count": null,
      "metadata": {
        "id": "l_L7p5ONNWt7"
      },
      "outputs": [],
      "source": [
        "def Viterbi_Algorithm(untagged_sentence,POS_tag_counts,word_pos_tags,Tag_transition_count):\n",
        "    n = len(untagged_sentence)\n",
        "    prev = defaultdict(Counter)\n",
        "    curr = defaultdict(Counter)\n",
        "    parent = defaultdict(Counter)\n",
        "    for tag in POS_tag_counts:\n",
        "        prev[tag] = 0.0\n",
        "    prev[start]=0.0\n",
        "    parent[0][start] = 0\n",
        "\n",
        "    for i in range(1,n-1):\n",
        "        word = untagged_sentence[i]\n",
        "        for tag in POS_tag_counts:\n",
        "            curr[tag] = 1.0\n",
        "            for prev_tag in POS_tag_counts:\n",
        "                temp = prev[prev_tag] + math.log(lexical_probability(word,tag,POS_tag_counts,word_pos_tags)) + math.log(transition_probability(prev_tag,tag,POS_tag_counts,Tag_transition_count))\n",
        "                if curr[tag]==1.0 or temp>curr[tag]:\n",
        "                    curr[tag] = temp\n",
        "                    parent[i][tag] = prev_tag\n",
        "        for tag in POS_tag_counts:\n",
        "            prev[tag] = curr[tag]\n",
        "\n",
        "    final_tags = ['$' for i in range(n)]\n",
        "    for tag in POS_tag_counts:\n",
        "        if curr[tag] > curr[final_tags[n-2]]:\n",
        "            final_tags[n-2] = tag\n",
        "    for i in range(n-3,0,-1):\n",
        "        final_tags[i] = parent[i+1][final_tags[i+1]]\n",
        "    final_tags[0] = start\n",
        "    return final_tags"
      ]
    },
    {
      "cell_type": "code",
      "execution_count": null,
      "metadata": {
        "colab": {
          "base_uri": "https://localhost:8080/"
        },
        "id": "myH3Ag3gNWr9",
        "outputId": "55ee8d17-e338-4cd1-fc9b-8da924ec235d"
      },
      "outputs": [
        {
          "name": "stdout",
          "output_type": "stream",
          "text": [
            "Accuracy for Fold 1 : 0.9385365979581037\n",
            "Accuracy for Fold 2 : 0.9385506671210481\n",
            "Accuracy for Fold 3 : 0.9381574135817075\n",
            "Accuracy for Fold 4 : 0.9390884962593302\n",
            "Accuracy for Fold 5 : 0.9382870068593975\n"
          ]
        }
      ],
      "source": [
        "Last_POS_tag_counts,Last_word_pos_tags,Last_Tag_transition_count = defaultdict(Counter), defaultdict(Counter), defaultdict(Counter)\n",
        "kfold = KFold(n_splits=5, shuffle=True, random_state=1)\n",
        "tagged_sentences = np.array(tagged_sentences,dtype='object')\n",
        "y_pred_list = []\n",
        "y_true_list = []\n",
        "for fold, (train, test) in enumerate(kfold.split(tagged_sentences)):\n",
        "    train_sentences = tagged_sentences[train]\n",
        "    test_sentences = tagged_sentences[test]\n",
        "    POS_tag_counts,word_pos_tags,Tag_transition_count = Training(train_sentences)\n",
        "    if(fold==3):\n",
        "        Last_POS_tag_counts = POS_tag_counts\n",
        "        Last_word_pos_tags = word_pos_tags\n",
        "        Last_Tag_transition_count = Tag_transition_count\n",
        "    y_pred = []\n",
        "    y_true = []\n",
        "\n",
        "    for sentence in test_sentences:\n",
        "        untagged_sentence = [word for word,tag in sentence]\n",
        "        prediction = Viterbi_Algorithm(untagged_sentence,POS_tag_counts,word_pos_tags,Tag_transition_count)\n",
        "        for i in range(1,len(prediction)-1):\n",
        "            y_pred.append(prediction[i])\n",
        "            y_true.append(sentence[i][1])\n",
        "\n",
        "    y_pred_list.append(np.array(y_pred))\n",
        "    y_true_list.append(np.array(y_true))\n",
        "    accuracy = accuracy_score(y_true_list[-1],y_pred_list[-1],normalize=True)\n",
        "    print(f'Accuracy for Fold {fold + 1} : {accuracy}')"
      ]
    },
    {
      "cell_type": "code",
      "execution_count": null,
      "metadata": {
        "colab": {
          "background_save": true
        },
        "id": "Job90MUjNWnO"
      },
      "outputs": [],
      "source": [
        "def sentence_checking(untagged_sentence,Last_POS_tag_counts,Last_word_pos_tags,Last_Tag_transition_count):\n",
        "    untagged_sentence = untagged_sentence.lower()\n",
        "    sentence_list = untagged_sentence.split()\n",
        "    sentence_list = ['^'] + sentence_list + ['$']\n",
        "    pos_tags = Viterbi_Algorithm(sentence_list, Last_POS_tag_counts, Last_word_pos_tags, Last_Tag_transition_count)\n",
        "    return pos_tags"
      ]
    },
    {
      "cell_type": "code",
      "execution_count": null,
      "metadata": {
        "colab": {
          "base_uri": "https://localhost:8080/"
        },
        "id": "WDe9lCw0NWkm",
        "outputId": "ab5fd360-03fd-4a77-98b0-cdc382cd67a1"
      },
      "outputs": [
        {
          "name": "stdout",
          "output_type": "stream",
          "text": [
            "['^', 'PRON', 'VERB', 'DET', 'NOUN', 'NOUN', '$']\n"
          ]
        }
      ],
      "source": [
        "for_checking = 'I saw a python code'\n",
        "print(sentence_checking(for_checking,Last_POS_tag_counts,Last_word_pos_tags,Last_Tag_transition_count))"
      ]
    },
    {
      "cell_type": "code",
      "execution_count": null,
      "metadata": {
        "id": "W0fwrRY_NWIc"
      },
      "outputs": [],
      "source": []
    },
    {
      "cell_type": "markdown",
      "metadata": {
        "id": "uin1X14ANQdq"
      },
      "source": []
    },
    {
      "cell_type": "markdown",
      "metadata": {
        "id": "GDV6PtbmNQZO"
      },
      "source": [
        "# CRF POS TAGGING"
      ]
    },
    {
      "cell_type": "code",
      "execution_count": null,
      "metadata": {
        "colab": {
          "base_uri": "https://localhost:8080/"
        },
        "id": "lP0JnbOMNcf0",
        "outputId": "2710b90e-5c47-4f48-98e9-e64391f08b7e"
      },
      "outputs": [
        {
          "name": "stdout",
          "output_type": "stream",
          "text": [
            "Collecting sklearn_crfsuite\n",
            "  Downloading sklearn_crfsuite-0.5.0-py2.py3-none-any.whl.metadata (4.9 kB)\n",
            "Collecting python-crfsuite>=0.9.7 (from sklearn_crfsuite)\n",
            "  Downloading python_crfsuite-0.9.11-cp310-cp310-manylinux_2_17_x86_64.manylinux2014_x86_64.whl.metadata (4.3 kB)\n",
            "Requirement already satisfied: scikit-learn>=0.24.0 in /usr/local/lib/python3.10/dist-packages (from sklearn_crfsuite) (1.5.2)\n",
            "Requirement already satisfied: tabulate>=0.4.2 in /usr/local/lib/python3.10/dist-packages (from sklearn_crfsuite) (0.9.0)\n",
            "Requirement already satisfied: tqdm>=2.0 in /usr/local/lib/python3.10/dist-packages (from sklearn_crfsuite) (4.66.5)\n",
            "Requirement already satisfied: numpy>=1.19.5 in /usr/local/lib/python3.10/dist-packages (from scikit-learn>=0.24.0->sklearn_crfsuite) (1.26.4)\n",
            "Requirement already satisfied: scipy>=1.6.0 in /usr/local/lib/python3.10/dist-packages (from scikit-learn>=0.24.0->sklearn_crfsuite) (1.13.1)\n",
            "Requirement already satisfied: joblib>=1.2.0 in /usr/local/lib/python3.10/dist-packages (from scikit-learn>=0.24.0->sklearn_crfsuite) (1.4.2)\n",
            "Requirement already satisfied: threadpoolctl>=3.1.0 in /usr/local/lib/python3.10/dist-packages (from scikit-learn>=0.24.0->sklearn_crfsuite) (3.5.0)\n",
            "Downloading sklearn_crfsuite-0.5.0-py2.py3-none-any.whl (10 kB)\n",
            "Downloading python_crfsuite-0.9.11-cp310-cp310-manylinux_2_17_x86_64.manylinux2014_x86_64.whl (1.2 MB)\n",
            "\u001b[2K   \u001b[90m━━━━━━━━━━━━━━━━━━━━━━━━━━━━━━━━━━━━━━━━\u001b[0m \u001b[32m1.2/1.2 MB\u001b[0m \u001b[31m15.8 MB/s\u001b[0m eta \u001b[36m0:00:00\u001b[0m\n",
            "\u001b[?25hInstalling collected packages: python-crfsuite, sklearn_crfsuite\n",
            "Successfully installed python-crfsuite-0.9.11 sklearn_crfsuite-0.5.0\n"
          ]
        }
      ],
      "source": [
        "pip install sklearn_crfsuite"
      ]
    },
    {
      "cell_type": "code",
      "execution_count": null,
      "metadata": {
        "id": "f1rYeqp3NQMf"
      },
      "outputs": [],
      "source": [
        "import nltk, re, pprint\n",
        "import numpy as np\n",
        "import pandas as pd\n",
        "import pprint, time\n",
        "import random\n",
        "from sklearn.model_selection import train_test_split\n",
        "from nltk.tokenize import word_tokenize\n",
        "import sklearn\n",
        "\n",
        "import sklearn_crfsuite\n",
        "from sklearn_crfsuite import metrics\n",
        "from sklearn_crfsuite import scorers\n",
        "from sklearn.model_selection import GridSearchCV\n",
        "\n",
        "import matplotlib.pyplot as plt"
      ]
    },
    {
      "cell_type": "code",
      "execution_count": null,
      "metadata": {
        "colab": {
          "base_uri": "https://localhost:8080/"
        },
        "id": "LNCN1McLOXE_",
        "outputId": "a4ce6788-46c5-435b-9ecc-1cfee56669c1"
      },
      "outputs": [
        {
          "name": "stderr",
          "output_type": "stream",
          "text": [
            "[nltk_data] Downloading package universal_tagset to /root/nltk_data...\n",
            "[nltk_data]   Package universal_tagset is already up-to-date!\n"
          ]
        },
        {
          "data": {
            "text/plain": [
              "True"
            ]
          },
          "execution_count": 16,
          "metadata": {},
          "output_type": "execute_result"
        }
      ],
      "source": [
        "import nltk\n",
        "nltk.download('universal_tagset')"
      ]
    },
    {
      "cell_type": "code",
      "execution_count": null,
      "metadata": {
        "id": "-Fn_Sa01NUHI"
      },
      "outputs": [],
      "source": [
        "# reading the Brown tagged sentences\n",
        "brown = list(nltk.corpus.brown.tagged_sents(tagset='universal'))"
      ]
    },
    {
      "cell_type": "code",
      "execution_count": null,
      "metadata": {
        "colab": {
          "base_uri": "https://localhost:8080/"
        },
        "id": "Pm_J0NMMOQLW",
        "outputId": "a030dc8f-a8d3-49c6-9c18-d02d128ae526"
      },
      "outputs": [
        {
          "name": "stdout",
          "output_type": "stream",
          "text": [
            "Number of words(M):  56057\n",
            "Number of tags(N):  12\n",
            "{'DET': 137019, 'NOUN': 275558, 'ADJ': 83721, 'VERB': 182750, 'ADP': 144766, '.': 147565, 'ADV': 56239, 'CONJ': 38151, 'PRT': 29829, 'PRON': 49334, 'NUM': 14874, 'X': 1386}\n"
          ]
        }
      ],
      "source": [
        "tag_dict={}\n",
        "word_dict={}\n",
        "\n",
        "for sent in brown:\n",
        "    for elem in sent:\n",
        "        w = elem[0]\n",
        "        tag= elem[1]\n",
        "        if w not in word_dict:\n",
        "            word_dict[w]=0\n",
        "        if tag not in tag_dict:\n",
        "            tag_dict[tag]=0\n",
        "        word_dict[w]+=1\n",
        "        tag_dict[tag]+=1\n",
        "\n",
        "print('Number of words(M): ',len(word_dict))\n",
        "print('Number of tags(N): ',len(tag_dict))\n",
        "print(tag_dict)"
      ]
    },
    {
      "cell_type": "code",
      "execution_count": null,
      "metadata": {
        "id": "pAjgBuTdKc6G"
      },
      "outputs": [],
      "source": [
        "# from collections import defaultdict\n",
        "# # Known words are those that appear frequently enough (based on your threshold)\n",
        "# threshold = 1\n",
        "# known_words = {word for word, count in word_dict.items() if count >= threshold}\n",
        "\n",
        "# # Step 2: Define a defaultdict for embedding dictionary\n",
        "# embedding_dict = defaultdict(lambda: np.random.rand(300))\n",
        "\n",
        "# # Populate embedding_dict with known words (here using random embeddings as an example)\n",
        "# for word in known_words:\n",
        "#     embedding_dict[word] = np.random.rand(300)\n",
        "\n",
        "# # Step 3: Define function to find similar words by prefix, suffix, or capitalization pattern\n",
        "# def find_similar_words(word, known_words):\n",
        "#     similar_words = set()\n",
        "\n",
        "#     # Find similar words based on prefix/suffix/capitalization/numeric content\n",
        "#     for known_word in known_words:\n",
        "#         if known_word[:3] == word[:3] or known_word[-3:] == word[-3:]:\n",
        "#             similar_words.add(known_word)\n",
        "#         if (known_word.isupper() and word.isupper()) or (known_word.istitle() and word.istitle()):\n",
        "#             similar_words.add(known_word)\n",
        "#         if any(char.isdigit() for char in known_word) and any(char.isdigit() for char in word):\n",
        "#             similar_words.add(known_word)\n",
        "\n",
        "#     return similar_words\n",
        "\n",
        "# Step 4: Modify word2features to handle unknown words using similar words for embedding\n",
        "def word2features(sentence, i):\n",
        "    word = sentence[i][0]\n",
        "    features = {\n",
        "        #'word': word if word in known_words else 'UNK',\n",
        "        #'is_unknown': word not in known_words,\n",
        "        'is_first': i == 0,\n",
        "        'is_last': i == len(sentence) - 1,\n",
        "        'is_capitalized': word[0].upper() == word[0],\n",
        "        'is_all_caps': word.upper() == word,\n",
        "        'is_all_lower': word.lower() == word,\n",
        "        'prefix-1': word[0],\n",
        "        'prefix-2': word[:2],\n",
        "        'prefix-3': word[:3],\n",
        "        'suffix-1': word[-1],\n",
        "        'suffix-2': word[-2:],\n",
        "        'suffix-3': word[-3:],\n",
        "        'prev_word': '' if i == 0 else sentence[i-1][0],\n",
        "        'next_word': '' if i == len(sentence)-1 else sentence[i+1][0],\n",
        "        'has_hyphen': '-' in word,\n",
        "        'is_numeric': word.isdigit(),\n",
        "        'capitals_inside': word[1:].lower() != word[1:],\n",
        "    }\n",
        "\n",
        "    # # Handling embeddings for unknown words\n",
        "    # if word in embedding_dict:\n",
        "    #     features['embedding'] = embedding_dict[word].tolist()  # Convert to list for JSON serialization\n",
        "    # else:\n",
        "    #     similar_words = find_similar_words(word, known_words)\n",
        "    #     if similar_words:\n",
        "    #         similar_embeddings = [embedding_dict[w] for w in similar_words]\n",
        "    #         features['embedding'] = np.mean(similar_embeddings, axis=0).tolist()\n",
        "    #     else:\n",
        "    #         features['embedding'] = embedding_dict[word].tolist()  # Random embedding\n",
        "\n",
        "    return features"
      ]
    },
    {
      "cell_type": "code",
      "execution_count": null,
      "metadata": {
        "id": "VZZhyyDObeCh"
      },
      "outputs": [],
      "source": [
        "def sent2features(sent):\n",
        "    return [word2features(sent, i) for i in range(len(sent))]\n",
        "\n",
        "def sent2labels(sent):\n",
        "    return [label for word, label in sent]\n",
        "\n",
        "def sent2tokens(sent):\n",
        "    return [word for word, label in sent]"
      ]
    },
    {
      "cell_type": "code",
      "execution_count": null,
      "metadata": {
        "colab": {
          "background_save": true
        },
        "id": "agnqDMCobhf_"
      },
      "outputs": [],
      "source": [
        "import sklearn_crfsuite\n",
        "from sklearn_crfsuite import metrics\n",
        "from sklearn.model_selection import cross_val_predict\n",
        "\n",
        "X = [sent2features(s) for s in brown]\n",
        "y = [sent2labels(s) for s in brown]\n",
        "\n",
        "# Initialize CRF model\n",
        "crf = sklearn_crfsuite.CRF(\n",
        "    algorithm='lbfgs',\n",
        "    c1=0.1,\n",
        "    c2=0.1,\n",
        "    max_iterations=100,\n",
        "    all_possible_transitions=True\n",
        ")\n",
        "\n",
        "# Use cross-validation to evaluate model performance\n",
        "y_pred = cross_val_predict(estimator=crf, X=X, y=y, cv=5)\n",
        "\n",
        "## After cross-validation, fit the model on the full dataset\n",
        "crf.fit(X, y)\n",
        "\n",
        "# Get labels\n",
        "labels = list(crf.classes_)\n",
        "\n",
        "# Predict on training data\n",
        "y_pred_full = crf.predict(X)"
      ]
    },
    {
      "cell_type": "code",
      "execution_count": null,
      "metadata": {
        "colab": {
          "base_uri": "https://localhost:8080/"
        },
        "id": "TnnId1g-z4Jf",
        "outputId": "50811be9-17f9-4f92-eb57-ab73b4ce7e2f"
      },
      "outputs": [
        {
          "name": "stdout",
          "output_type": "stream",
          "text": [
            "              precision    recall  f1-score   support\n",
            "\n",
            "         DET       1.00      1.00      1.00    137019\n",
            "        NOUN       0.97      0.98      0.98    275558\n",
            "         ADJ       0.94      0.93      0.93     83721\n",
            "        VERB       0.98      0.98      0.98    182750\n",
            "         ADP       0.99      0.99      0.99    144766\n",
            "           .       1.00      1.00      1.00    147565\n",
            "         ADV       0.96      0.96      0.96     56239\n",
            "        CONJ       1.00      1.00      1.00     38151\n",
            "         PRT       0.97      0.97      0.97     29829\n",
            "        PRON       1.00      0.99      1.00     49334\n",
            "         NUM       0.99      1.00      0.99     14874\n",
            "           X       0.98      0.82      0.89      1386\n",
            "\n",
            "    accuracy                           0.98   1161192\n",
            "   macro avg       0.98      0.97      0.97   1161192\n",
            "weighted avg       0.98      0.98      0.98   1161192\n",
            "\n"
          ]
        }
      ],
      "source": [
        "# Calculate metrics\n",
        "print(metrics.flat_classification_report(y, y_pred_full, labels=labels))"
      ]
    },
    {
      "cell_type": "code",
      "execution_count": null,
      "metadata": {
        "id": "U_G3R2aXz-xv"
      },
      "outputs": [],
      "source": [
        "# Calculate confusion matrix\n",
        "from sklearn.metrics import confusion_matrix\n",
        "\n",
        "# Flatten y and y_pred for confusion matrix calculation\n",
        "y_true_flat = [tag for sent in y for tag in sent]\n",
        "y_pred_flat = [tag for sent in y_pred_full for tag in sent]\n",
        "\n",
        "cm = confusion_matrix(y_true_flat, y_pred_flat, labels=labels)"
      ]
    },
    {
      "cell_type": "code",
      "execution_count": null,
      "metadata": {
        "colab": {
          "base_uri": "https://localhost:8080/",
          "height": 952
        },
        "id": "GgJ-XLzi0Ejg",
        "outputId": "3a099c97-c686-430e-a19f-1ec0efabebba"
      },
      "outputs": [
        {
          "data": {
            "image/png": "[encoded data removed]",
            "text/plain": [
              "<Figure size 1200x1000 with 2 Axes>"
            ]
          },
          "metadata": {},
          "output_type": "display_data"
        }
      ],
      "source": [
        "import seaborn as sns\n",
        "\n",
        "# Create a heatmap for the confusion matrix\n",
        "plt.figure(figsize=(12, 10))\n",
        "sns.set(font_scale=1.2)  # Increase font scale for readability\n",
        "heatmap = sns.heatmap(cm, annot=True, fmt=\"d\", cmap=\"Blues\",\n",
        "                      xticklabels=labels, yticklabels=labels,\n",
        "                      cbar_kws={'label': 'Number of Predictions'},\n",
        "                      linewidths=.5)\n",
        "\n",
        "# Set labels and title\n",
        "plt.xlabel('Predicted', fontsize=14)\n",
        "plt.ylabel('True', fontsize=14)\n",
        "plt.title('Confusion Matrix of POS Tags', fontsize=16)\n",
        "plt.xticks(rotation=45, ha='right')\n",
        "plt.yticks(rotation=0)\n",
        "plt.tight_layout()  # Adjust layout to prevent clipping\n",
        "plt.show()"
      ]
    },
    {
      "cell_type": "code",
      "execution_count": null,
      "metadata": {
        "colab": {
          "base_uri": "https://localhost:8080/",
          "height": 519
        },
        "id": "TZaHbYAHzNsX",
        "outputId": "65df6287-1880-41e1-8d31-f9c7e9a1c6bc"
      },
      "outputs": [
        {
          "data": {
            "text/html": [
              "<style type=\"text/css\">\n",
              "#T_ea324_row0_col0, #T_ea324_row9_col2 {\n",
              "  background-color: #c32e31;\n",
              "  color: #f1f1f1;\n",
              "}\n",
              "#T_ea324_row0_col1 {\n",
              "  background-color: #b8122a;\n",
              "  color: #f1f1f1;\n",
              "}\n",
              "#T_ea324_row0_col2 {\n",
              "  background-color: #bb1b2c;\n",
              "  color: #f1f1f1;\n",
              "}\n",
              "#T_ea324_row0_col3 {\n",
              "  background-color: #5f7fe8;\n",
              "  color: #f1f1f1;\n",
              "}\n",
              "#T_ea324_row1_col0 {\n",
              "  background-color: #f2cbb7;\n",
              "  color: #000000;\n",
              "}\n",
              "#T_ea324_row1_col1 {\n",
              "  background-color: #de614d;\n",
              "  color: #f1f1f1;\n",
              "}\n",
              "#T_ea324_row1_col2, #T_ea324_row10_col0 {\n",
              "  background-color: #f18f71;\n",
              "  color: #f1f1f1;\n",
              "}\n",
              "#T_ea324_row1_col3 {\n",
              "  background-color: #88abfd;\n",
              "  color: #000000;\n",
              "}\n",
              "#T_ea324_row2_col0, #T_ea324_row11_col1, #T_ea324_row11_col2, #T_ea324_row11_col3, #T_ea324_row12_col3 {\n",
              "  background-color: #3b4cc0;\n",
              "  color: #f1f1f1;\n",
              "}\n",
              "#T_ea324_row2_col1 {\n",
              "  background-color: #f1ccb8;\n",
              "  color: #000000;\n",
              "}\n",
              "#T_ea324_row2_col2 {\n",
              "  background-color: #b5cdfa;\n",
              "  color: #000000;\n",
              "}\n",
              "#T_ea324_row2_col3 {\n",
              "  background-color: #506bda;\n",
              "  color: #f1f1f1;\n",
              "}\n",
              "#T_ea324_row3_col0 {\n",
              "  background-color: #f7aa8c;\n",
              "  color: #000000;\n",
              "}\n",
              "#T_ea324_row3_col1 {\n",
              "  background-color: #d95847;\n",
              "  color: #f1f1f1;\n",
              "}\n",
              "#T_ea324_row3_col2, #T_ea324_row13_col1 {\n",
              "  background-color: #ea7b60;\n",
              "  color: #f1f1f1;\n",
              "}\n",
              "#T_ea324_row3_col3 {\n",
              "  background-color: #6c8ff1;\n",
              "  color: #f1f1f1;\n",
              "}\n",
              "#T_ea324_row4_col0 {\n",
              "  background-color: #ed8366;\n",
              "  color: #f1f1f1;\n",
              "}\n",
              "#T_ea324_row4_col1, #T_ea324_row7_col0 {\n",
              "  background-color: #c43032;\n",
              "  color: #f1f1f1;\n",
              "}\n",
              "#T_ea324_row4_col2 {\n",
              "  background-color: #d55042;\n",
              "  color: #f1f1f1;\n",
              "}\n",
              "#T_ea324_row4_col3 {\n",
              "  background-color: #6180e9;\n",
              "  color: #f1f1f1;\n",
              "}\n",
              "#T_ea324_row5_col0, #T_ea324_row5_col1, #T_ea324_row5_col2, #T_ea324_row13_col3, #T_ea324_row14_col3 {\n",
              "  background-color: #b40426;\n",
              "  color: #f1f1f1;\n",
              "}\n",
              "#T_ea324_row5_col3 {\n",
              "  background-color: #6282ea;\n",
              "  color: #f1f1f1;\n",
              "}\n",
              "#T_ea324_row6_col0 {\n",
              "  background-color: #c3d5f4;\n",
              "  color: #000000;\n",
              "}\n",
              "#T_ea324_row6_col1 {\n",
              "  background-color: #f59c7d;\n",
              "  color: #000000;\n",
              "}\n",
              "#T_ea324_row6_col2 {\n",
              "  background-color: #f3c8b2;\n",
              "  color: #000000;\n",
              "}\n",
              "#T_ea324_row6_col3 {\n",
              "  background-color: #4961d2;\n",
              "  color: #f1f1f1;\n",
              "}\n",
              "#T_ea324_row7_col1 {\n",
              "  background-color: #b50927;\n",
              "  color: #f1f1f1;\n",
              "}\n",
              "#T_ea324_row7_col2 {\n",
              "  background-color: #ba162b;\n",
              "  color: #f1f1f1;\n",
              "}\n",
              "#T_ea324_row7_col3 {\n",
              "  background-color: #445acc;\n",
              "  color: #f1f1f1;\n",
              "}\n",
              "#T_ea324_row8_col0 {\n",
              "  background-color: #e6d7cf;\n",
              "  color: #000000;\n",
              "}\n",
              "#T_ea324_row8_col1 {\n",
              "  background-color: #e8765c;\n",
              "  color: #f1f1f1;\n",
              "}\n",
              "#T_ea324_row8_col2 {\n",
              "  background-color: #f6a586;\n",
              "  color: #000000;\n",
              "}\n",
              "#T_ea324_row8_col3 {\n",
              "  background-color: #4257c9;\n",
              "  color: #f1f1f1;\n",
              "}\n",
              "#T_ea324_row9_col0 {\n",
              "  background-color: #c73635;\n",
              "  color: #f1f1f1;\n",
              "}\n",
              "#T_ea324_row9_col1 {\n",
              "  background-color: #be242e;\n",
              "  color: #f1f1f1;\n",
              "}\n",
              "#T_ea324_row9_col3 {\n",
              "  background-color: #465ecf;\n",
              "  color: #f1f1f1;\n",
              "}\n",
              "#T_ea324_row10_col1 {\n",
              "  background-color: #bd1f2d;\n",
              "  color: #f1f1f1;\n",
              "}\n",
              "#T_ea324_row10_col2 {\n",
              "  background-color: #d24b40;\n",
              "  color: #f1f1f1;\n",
              "}\n",
              "#T_ea324_row10_col3 {\n",
              "  background-color: #3e51c5;\n",
              "  color: #f1f1f1;\n",
              "}\n",
              "#T_ea324_row11_col0 {\n",
              "  background-color: #f7b79b;\n",
              "  color: #000000;\n",
              "}\n",
              "#T_ea324_row12_col0, #T_ea324_row14_col0 {\n",
              "  background-color: #f7a98b;\n",
              "  color: #000000;\n",
              "}\n",
              "#T_ea324_row12_col1, #T_ea324_row14_col1 {\n",
              "  background-color: #d75445;\n",
              "  color: #f1f1f1;\n",
              "}\n",
              "#T_ea324_row12_col2, #T_ea324_row14_col2 {\n",
              "  background-color: #e9785d;\n",
              "  color: #f1f1f1;\n",
              "}\n",
              "#T_ea324_row13_col0 {\n",
              "  background-color: #f7ad90;\n",
              "  color: #000000;\n",
              "}\n",
              "#T_ea324_row13_col2 {\n",
              "  background-color: #f4987a;\n",
              "  color: #000000;\n",
              "}\n",
              "</style>\n",
              "<table id=\"T_ea324\" class=\"dataframe\">\n",
              "  <thead>\n",
              "    <tr>\n",
              "      <th class=\"blank level0\" >&nbsp;</th>\n",
              "      <th id=\"T_ea324_level0_col0\" class=\"col_heading level0 col0\" >precision</th>\n",
              "      <th id=\"T_ea324_level0_col1\" class=\"col_heading level0 col1\" >recall</th>\n",
              "      <th id=\"T_ea324_level0_col2\" class=\"col_heading level0 col2\" >f1-score</th>\n",
              "      <th id=\"T_ea324_level0_col3\" class=\"col_heading level0 col3\" >support</th>\n",
              "    </tr>\n",
              "  </thead>\n",
              "  <tbody>\n",
              "    <tr>\n",
              "      <th id=\"T_ea324_level0_row0\" class=\"row_heading level0 row0\" >DET</th>\n",
              "      <td id=\"T_ea324_row0_col0\" class=\"data row0 col0\" >0.997395</td>\n",
              "      <td id=\"T_ea324_row0_col1\" class=\"data row0 col1\" >0.997708</td>\n",
              "      <td id=\"T_ea324_row0_col2\" class=\"data row0 col2\" >0.997552</td>\n",
              "      <td id=\"T_ea324_row0_col3\" class=\"data row0 col3\" >137019.000000</td>\n",
              "    </tr>\n",
              "    <tr>\n",
              "      <th id=\"T_ea324_level0_row1\" class=\"row_heading level0 row1\" >NOUN</th>\n",
              "      <td id=\"T_ea324_row1_col0\" class=\"data row1 col0\" >0.974967</td>\n",
              "      <td id=\"T_ea324_row1_col1\" class=\"data row1 col1\" >0.977947</td>\n",
              "      <td id=\"T_ea324_row1_col2\" class=\"data row1 col2\" >0.976455</td>\n",
              "      <td id=\"T_ea324_row1_col3\" class=\"data row1 col3\" >275558.000000</td>\n",
              "    </tr>\n",
              "    <tr>\n",
              "      <th id=\"T_ea324_level0_row2\" class=\"row_heading level0 row2\" >ADJ</th>\n",
              "      <td id=\"T_ea324_row2_col0\" class=\"data row2 col0\" >0.937588</td>\n",
              "      <td id=\"T_ea324_row2_col1\" class=\"data row2 col1\" >0.928943</td>\n",
              "      <td id=\"T_ea324_row2_col2\" class=\"data row2 col2\" >0.933245</td>\n",
              "      <td id=\"T_ea324_row2_col3\" class=\"data row2 col3\" >83721.000000</td>\n",
              "    </tr>\n",
              "    <tr>\n",
              "      <th id=\"T_ea324_level0_row3\" class=\"row_heading level0 row3\" >VERB</th>\n",
              "      <td id=\"T_ea324_row3_col0\" class=\"data row3 col0\" >0.981506</td>\n",
              "      <td id=\"T_ea324_row3_col1\" class=\"data row3 col1\" >0.980679</td>\n",
              "      <td id=\"T_ea324_row3_col2\" class=\"data row3 col2\" >0.981092</td>\n",
              "      <td id=\"T_ea324_row3_col3\" class=\"data row3 col3\" >182750.000000</td>\n",
              "    </tr>\n",
              "    <tr>\n",
              "      <th id=\"T_ea324_level0_row4\" class=\"row_heading level0 row4\" >ADP</th>\n",
              "      <td id=\"T_ea324_row4_col0\" class=\"data row4 col0\" >0.987757</td>\n",
              "      <td id=\"T_ea324_row4_col1\" class=\"data row4 col1\" >0.991980</td>\n",
              "      <td id=\"T_ea324_row4_col2\" class=\"data row4 col2\" >0.989864</td>\n",
              "      <td id=\"T_ea324_row4_col3\" class=\"data row4 col3\" >144766.000000</td>\n",
              "    </tr>\n",
              "    <tr>\n",
              "      <th id=\"T_ea324_level0_row5\" class=\"row_heading level0 row5\" >.</th>\n",
              "      <td id=\"T_ea324_row5_col0\" class=\"data row5 col0\" >0.999959</td>\n",
              "      <td id=\"T_ea324_row5_col1\" class=\"data row5 col1\" >0.999980</td>\n",
              "      <td id=\"T_ea324_row5_col2\" class=\"data row5 col2\" >0.999970</td>\n",
              "      <td id=\"T_ea324_row5_col3\" class=\"data row5 col3\" >147565.000000</td>\n",
              "    </tr>\n",
              "    <tr>\n",
              "      <th id=\"T_ea324_level0_row6\" class=\"row_heading level0 row6\" >ADV</th>\n",
              "      <td id=\"T_ea324_row6_col0\" class=\"data row6 col0\" >0.963140</td>\n",
              "      <td id=\"T_ea324_row6_col1\" class=\"data row6 col1\" >0.955262</td>\n",
              "      <td id=\"T_ea324_row6_col2\" class=\"data row6 col2\" >0.959185</td>\n",
              "      <td id=\"T_ea324_row6_col3\" class=\"data row6 col3\" >56239.000000</td>\n",
              "    </tr>\n",
              "    <tr>\n",
              "      <th id=\"T_ea324_level0_row7\" class=\"row_heading level0 row7\" >CONJ</th>\n",
              "      <td id=\"T_ea324_row7_col0\" class=\"data row7 col0\" >0.997122</td>\n",
              "      <td id=\"T_ea324_row7_col1\" class=\"data row7 col1\" >0.999109</td>\n",
              "      <td id=\"T_ea324_row7_col2\" class=\"data row7 col2\" >0.998115</td>\n",
              "      <td id=\"T_ea324_row7_col3\" class=\"data row7 col3\" >38151.000000</td>\n",
              "    </tr>\n",
              "    <tr>\n",
              "      <th id=\"T_ea324_level0_row8\" class=\"row_heading level0 row8\" >PRT</th>\n",
              "      <td id=\"T_ea324_row8_col0\" class=\"data row8 col0\" >0.970978</td>\n",
              "      <td id=\"T_ea324_row8_col1\" class=\"data row8 col1\" >0.970197</td>\n",
              "      <td id=\"T_ea324_row8_col2\" class=\"data row8 col2\" >0.970587</td>\n",
              "      <td id=\"T_ea324_row8_col3\" class=\"data row8 col3\" >29829.000000</td>\n",
              "    </tr>\n",
              "    <tr>\n",
              "      <th id=\"T_ea324_level0_row9\" class=\"row_heading level0 row9\" >PRON</th>\n",
              "      <td id=\"T_ea324_row9_col0\" class=\"data row9 col0\" >0.996730</td>\n",
              "      <td id=\"T_ea324_row9_col1\" class=\"data row9 col1\" >0.994710</td>\n",
              "      <td id=\"T_ea324_row9_col2\" class=\"data row9 col2\" >0.995719</td>\n",
              "      <td id=\"T_ea324_row9_col3\" class=\"data row9 col3\" >49334.000000</td>\n",
              "    </tr>\n",
              "    <tr>\n",
              "      <th id=\"T_ea324_level0_row10\" class=\"row_heading level0 row10\" >NUM</th>\n",
              "      <td id=\"T_ea324_row10_col0\" class=\"data row10 col0\" >0.985886</td>\n",
              "      <td id=\"T_ea324_row10_col1\" class=\"data row10 col1\" >0.995630</td>\n",
              "      <td id=\"T_ea324_row10_col2\" class=\"data row10 col2\" >0.990734</td>\n",
              "      <td id=\"T_ea324_row10_col3\" class=\"data row10 col3\" >14874.000000</td>\n",
              "    </tr>\n",
              "    <tr>\n",
              "      <th id=\"T_ea324_level0_row11\" class=\"row_heading level0 row11\" >X</th>\n",
              "      <td id=\"T_ea324_row11_col0\" class=\"data row11 col0\" >0.979417</td>\n",
              "      <td id=\"T_ea324_row11_col1\" class=\"data row11 col1\" >0.823954</td>\n",
              "      <td id=\"T_ea324_row11_col2\" class=\"data row11 col2\" >0.894984</td>\n",
              "      <td id=\"T_ea324_row11_col3\" class=\"data row11 col3\" >1386.000000</td>\n",
              "    </tr>\n",
              "    <tr>\n",
              "      <th id=\"T_ea324_level0_row12\" class=\"row_heading level0 row12\" >accuracy</th>\n",
              "      <td id=\"T_ea324_row12_col0\" class=\"data row12 col0\" >0.981877</td>\n",
              "      <td id=\"T_ea324_row12_col1\" class=\"data row12 col1\" >0.981877</td>\n",
              "      <td id=\"T_ea324_row12_col2\" class=\"data row12 col2\" >0.981877</td>\n",
              "      <td id=\"T_ea324_row12_col3\" class=\"data row12 col3\" >0.981877</td>\n",
              "    </tr>\n",
              "    <tr>\n",
              "      <th id=\"T_ea324_level0_row13\" class=\"row_heading level0 row13\" >macro avg</th>\n",
              "      <td id=\"T_ea324_row13_col0\" class=\"data row13 col0\" >0.981037</td>\n",
              "      <td id=\"T_ea324_row13_col1\" class=\"data row13 col1\" >0.968008</td>\n",
              "      <td id=\"T_ea324_row13_col2\" class=\"data row13 col2\" >0.973958</td>\n",
              "      <td id=\"T_ea324_row13_col3\" class=\"data row13 col3\" >1161192.000000</td>\n",
              "    </tr>\n",
              "    <tr>\n",
              "      <th id=\"T_ea324_level0_row14\" class=\"row_heading level0 row14\" >weighted avg</th>\n",
              "      <td id=\"T_ea324_row14_col0\" class=\"data row14 col0\" >0.981841</td>\n",
              "      <td id=\"T_ea324_row14_col1\" class=\"data row14 col1\" >0.981877</td>\n",
              "      <td id=\"T_ea324_row14_col2\" class=\"data row14 col2\" >0.981847</td>\n",
              "      <td id=\"T_ea324_row14_col3\" class=\"data row14 col3\" >1161192.000000</td>\n",
              "    </tr>\n",
              "  </tbody>\n",
              "</table>\n"
            ],
            "text/plain": [
              "<pandas.io.formats.style.Styler at 0x7fdb102fbf40>"
            ]
          },
          "execution_count": 19,
          "metadata": {},
          "output_type": "execute_result"
        }
      ],
      "source": [
        "# Optional: Displaying the classification report in a more visually appealing format\n",
        "report = metrics.flat_classification_report(y, y_pred_full, labels=labels, digits=3, output_dict=True)\n",
        "\n",
        "# Convert the report to a DataFrame for better visualization\n",
        "import pandas as pd\n",
        "\n",
        "report_df = pd.DataFrame(report).transpose()\n",
        "\n",
        "# Create a styled DataFrame for better visualization\n",
        "styled_report = report_df.style.background_gradient(cmap='coolwarm')\n",
        "\n",
        "# Display the styled report\n",
        "styled_report"
      ]
    },
    {
      "cell_type": "code",
      "execution_count": null,
      "metadata": {
        "colab": {
          "base_uri": "https://localhost:8080/"
        },
        "id": "W2gz4-bLcoIR",
        "outputId": "6a8a3b67-7e73-4ff4-cf26-c632959c7be6"
      },
      "outputs": [
        {
          "name": "stdout",
          "output_type": "stream",
          "text": [
            "Overall Performance:\n",
            "Precision: 0.981\n",
            "Recall: 0.968\n",
            "F1-score: 0.974\n",
            "F0.5-score: 0.978\n",
            "F2-score: 0.97\n"
          ]
        }
      ],
      "source": [
        "from sklearn.metrics import precision_recall_fscore_support\n",
        "\n",
        "# Calculate metrics\n",
        "precision, recall, f1, _ = sklearn.metrics.precision_recall_fscore_support(y_true_flat, y_pred_flat, labels=labels, average=None)\n",
        "\n",
        "# Calculate F0.5 and F2 scores\n",
        "f05_score = (1 + 0.5 * 0.5) * (precision * recall) / (0.5*0.5 * precision + recall)\n",
        "f2_score = (1 + 2 * 2) * (precision * recall) / (2 * 2 * precision + recall)\n",
        "\n",
        "# Print scores rounded to 3 decimal places\n",
        "print(\"Overall Performance:\")\n",
        "print(f\"Precision: {np.round(np.mean(precision), 3)}\")\n",
        "print(f\"Recall: {np.round(np.mean(recall), 3)}\")\n",
        "print(f\"F1-score: {np.round(np.mean(f1), 3)}\")\n",
        "print(f\"F0.5-score: {np.round(np.mean(f05_score), 3)}\")\n",
        "print(f\"F2-score: {np.round(np.mean(f2_score), 3)}\")\n"
      ]
    },
    {
      "cell_type": "code",
      "execution_count": null,
      "metadata": {
        "colab": {
          "base_uri": "https://localhost:8080/"
        },
        "id": "UNeVrm-pY66C",
        "outputId": "843f472b-f938-4984-9f78-7d11473af1f2"
      },
      "outputs": [
        {
          "name": "stdout",
          "output_type": "stream",
          "text": [
            "Top 10 likely transitions - \n",
            "\n",
            "X      -> X       7.295439\n",
            "ADJ    -> NOUN    4.571271\n",
            "NOUN   -> PRON    2.959873\n",
            "NOUN   -> NOUN    2.775534\n",
            "DET    -> NOUN    2.593313\n",
            "PRT    -> VERB    2.330350\n",
            "VERB   -> NOUN    2.274112\n",
            "PRON   -> VERB    2.201400\n",
            "NOUN   -> VERB    2.101517\n",
            "ADV    -> ADJ     2.031451\n",
            "\n",
            "Top 10 unlikely transitions - \n",
            "\n",
            "PRON   -> X       -2.282275\n",
            "PRON   -> NUM     -2.297077\n",
            "DET    -> ADP     -2.315015\n",
            "NUM    -> DET     -2.357280\n",
            "DET    -> DET     -2.561307\n",
            "NUM    -> VERB    -2.598811\n",
            "DET    -> CONJ    -2.929279\n",
            "X      -> DET     -3.131242\n",
            "CONJ   -> CONJ    -3.701822\n",
            "CONJ   -> .       -4.103509\n"
          ]
        }
      ],
      "source": [
        "#obtaining the most likely and the least likely transitions\n",
        "from collections import Counter\n",
        "\n",
        "def print_transitions(transition_features):\n",
        "    for (label_from, label_to), weight in transition_features:\n",
        "        print(\"%-6s -> %-7s %0.6f\" % (label_from, label_to, weight))\n",
        "\n",
        "print(\"Top 10 likely transitions - \\n\")\n",
        "print_transitions(Counter(crf.transition_features_).most_common(10))\n",
        "\n",
        "print(\"\\nTop 10 unlikely transitions - \\n\")\n",
        "print_transitions(Counter(crf.transition_features_).most_common()[-10:])"
      ]
    },
    {
      "cell_type": "code",
      "execution_count": null,
      "metadata": {
        "colab": {
          "base_uri": "https://localhost:8080/"
        },
        "id": "iEYXYGvDNMLr",
        "outputId": "81ed179a-9b4a-489e-d934-c6bc1e9b0e71"
      },
      "outputs": [
        {
          "name": "stdout",
          "output_type": "stream",
          "text": [
            "Collecting gradio\n",
            "  Downloading gradio-4.44.1-py3-none-any.whl.metadata (15 kB)\n",
            "Collecting aiofiles<24.0,>=22.0 (from gradio)\n",
            "  Downloading aiofiles-23.2.1-py3-none-any.whl.metadata (9.7 kB)\n",
            "Requirement already satisfied: anyio<5.0,>=3.0 in /usr/local/lib/python3.10/dist-packages (from gradio) (3.7.1)\n",
            "Collecting fastapi<1.0 (from gradio)\n",
            "  Downloading fastapi-0.115.0-py3-none-any.whl.metadata (27 kB)\n",
            "Collecting ffmpy (from gradio)\n",
            "  Downloading ffmpy-0.4.0-py3-none-any.whl.metadata (2.9 kB)\n",
            "Collecting gradio-client==1.3.0 (from gradio)\n",
            "  Downloading gradio_client-1.3.0-py3-none-any.whl.metadata (7.1 kB)\n",
            "Collecting httpx>=0.24.1 (from gradio)\n",
            "  Downloading httpx-0.27.2-py3-none-any.whl.metadata (7.1 kB)\n",
            "Requirement already satisfied: huggingface-hub>=0.19.3 in /usr/local/lib/python3.10/dist-packages (from gradio) (0.24.7)\n",
            "Requirement already satisfied: importlib-resources<7.0,>=1.3 in /usr/local/lib/python3.10/dist-packages (from gradio) (6.4.5)\n",
            "Requirement already satisfied: jinja2<4.0 in /usr/local/lib/python3.10/dist-packages (from gradio) (3.1.4)\n",
            "Requirement already satisfied: markupsafe~=2.0 in /usr/local/lib/python3.10/dist-packages (from gradio) (2.1.5)\n",
            "Requirement already satisfied: matplotlib~=3.0 in /usr/local/lib/python3.10/dist-packages (from gradio) (3.7.1)\n",
            "Requirement already satisfied: numpy<3.0,>=1.0 in /usr/local/lib/python3.10/dist-packages (from gradio) (1.26.4)\n",
            "Collecting orjson~=3.0 (from gradio)\n",
            "  Downloading orjson-3.10.7-cp310-cp310-manylinux_2_17_x86_64.manylinux2014_x86_64.whl.metadata (50 kB)\n",
            "\u001b[2K     \u001b[90m━━━━━━━━━━━━━━━━━━━━━━━━━━━━━━━━━━━━━━━━\u001b[0m \u001b[32m50.4/50.4 kB\u001b[0m \u001b[31m3.2 MB/s\u001b[0m eta \u001b[36m0:00:00\u001b[0m\n",
            "\u001b[?25hRequirement already satisfied: packaging in /usr/local/lib/python3.10/dist-packages (from gradio) (24.1)\n",
            "Requirement already satisfied: pandas<3.0,>=1.0 in /usr/local/lib/python3.10/dist-packages (from gradio) (2.2.2)\n",
            "Requirement already satisfied: pillow<11.0,>=8.0 in /usr/local/lib/python3.10/dist-packages (from gradio) (10.4.0)\n",
            "Requirement already satisfied: pydantic>=2.0 in /usr/local/lib/python3.10/dist-packages (from gradio) (2.9.2)\n",
            "Collecting pydub (from gradio)\n",
            "  Downloading pydub-0.25.1-py2.py3-none-any.whl.metadata (1.4 kB)\n",
            "Collecting python-multipart>=0.0.9 (from gradio)\n",
            "  Downloading python_multipart-0.0.12-py3-none-any.whl.metadata (1.9 kB)\n",
            "Requirement already satisfied: pyyaml<7.0,>=5.0 in /usr/local/lib/python3.10/dist-packages (from gradio) (6.0.2)\n",
            "Collecting ruff>=0.2.2 (from gradio)\n",
            "  Downloading ruff-0.6.8-py3-none-manylinux_2_17_x86_64.manylinux2014_x86_64.whl.metadata (25 kB)\n",
            "Collecting semantic-version~=2.0 (from gradio)\n",
            "  Downloading semantic_version-2.10.0-py2.py3-none-any.whl.metadata (9.7 kB)\n",
            "Collecting tomlkit==0.12.0 (from gradio)\n",
            "  Downloading tomlkit-0.12.0-py3-none-any.whl.metadata (2.7 kB)\n",
            "Requirement already satisfied: typer<1.0,>=0.12 in /usr/local/lib/python3.10/dist-packages (from gradio) (0.12.5)\n",
            "Requirement already satisfied: typing-extensions~=4.0 in /usr/local/lib/python3.10/dist-packages (from gradio) (4.12.2)\n",
            "Requirement already satisfied: urllib3~=2.0 in /usr/local/lib/python3.10/dist-packages (from gradio) (2.2.3)\n",
            "Collecting uvicorn>=0.14.0 (from gradio)\n",
            "  Downloading uvicorn-0.31.0-py3-none-any.whl.metadata (6.6 kB)\n",
            "Requirement already satisfied: fsspec in /usr/local/lib/python3.10/dist-packages (from gradio-client==1.3.0->gradio) (2024.9.0)\n",
            "Collecting websockets<13.0,>=10.0 (from gradio-client==1.3.0->gradio)\n",
            "  Downloading websockets-12.0-cp310-cp310-manylinux_2_5_x86_64.manylinux1_x86_64.manylinux_2_17_x86_64.manylinux2014_x86_64.whl.metadata (6.6 kB)\n",
            "Requirement already satisfied: idna>=2.8 in /usr/local/lib/python3.10/dist-packages (from anyio<5.0,>=3.0->gradio) (3.10)\n",
            "Requirement already satisfied: sniffio>=1.1 in /usr/local/lib/python3.10/dist-packages (from anyio<5.0,>=3.0->gradio) (1.3.1)\n",
            "Requirement already satisfied: exceptiongroup in /usr/local/lib/python3.10/dist-packages (from anyio<5.0,>=3.0->gradio) (1.2.2)\n",
            "Collecting starlette<0.39.0,>=0.37.2 (from fastapi<1.0->gradio)\n",
            "  Downloading starlette-0.38.6-py3-none-any.whl.metadata (6.0 kB)\n",
            "Requirement already satisfied: certifi in /usr/local/lib/python3.10/dist-packages (from httpx>=0.24.1->gradio) (2024.8.30)\n",
            "Collecting httpcore==1.* (from httpx>=0.24.1->gradio)\n",
            "  Downloading httpcore-1.0.6-py3-none-any.whl.metadata (21 kB)\n",
            "Collecting h11<0.15,>=0.13 (from httpcore==1.*->httpx>=0.24.1->gradio)\n",
            "  Downloading h11-0.14.0-py3-none-any.whl.metadata (8.2 kB)\n",
            "Requirement already satisfied: filelock in /usr/local/lib/python3.10/dist-packages (from huggingface-hub>=0.19.3->gradio) (3.16.1)\n",
            "Requirement already satisfied: requests in /usr/local/lib/python3.10/dist-packages (from huggingface-hub>=0.19.3->gradio) (2.32.3)\n",
            "Requirement already satisfied: tqdm>=4.42.1 in /usr/local/lib/python3.10/dist-packages (from huggingface-hub>=0.19.3->gradio) (4.66.5)\n",
            "Requirement already satisfied: contourpy>=1.0.1 in /usr/local/lib/python3.10/dist-packages (from matplotlib~=3.0->gradio) (1.3.0)\n",
            "Requirement already satisfied: cycler>=0.10 in /usr/local/lib/python3.10/dist-packages (from matplotlib~=3.0->gradio) (0.12.1)\n",
            "Requirement already satisfied: fonttools>=4.22.0 in /usr/local/lib/python3.10/dist-packages (from matplotlib~=3.0->gradio) (4.54.1)\n",
            "Requirement already satisfied: kiwisolver>=1.0.1 in /usr/local/lib/python3.10/dist-packages (from matplotlib~=3.0->gradio) (1.4.7)\n",
            "Requirement already satisfied: pyparsing>=2.3.1 in /usr/local/lib/python3.10/dist-packages (from matplotlib~=3.0->gradio) (3.1.4)\n",
            "Requirement already satisfied: python-dateutil>=2.7 in /usr/local/lib/python3.10/dist-packages (from matplotlib~=3.0->gradio) (2.9.0.post0)\n",
            "Requirement already satisfied: pytz>=2020.1 in /usr/local/lib/python3.10/dist-packages (from pandas<3.0,>=1.0->gradio) (2024.2)\n",
            "Requirement already satisfied: tzdata>=2022.7 in /usr/local/lib/python3.10/dist-packages (from pandas<3.0,>=1.0->gradio) (2024.2)\n",
            "Requirement already satisfied: annotated-types>=0.6.0 in /usr/local/lib/python3.10/dist-packages (from pydantic>=2.0->gradio) (0.7.0)\n",
            "Requirement already satisfied: pydantic-core==2.23.4 in /usr/local/lib/python3.10/dist-packages (from pydantic>=2.0->gradio) (2.23.4)\n",
            "Requirement already satisfied: click>=8.0.0 in /usr/local/lib/python3.10/dist-packages (from typer<1.0,>=0.12->gradio) (8.1.7)\n",
            "Requirement already satisfied: shellingham>=1.3.0 in /usr/local/lib/python3.10/dist-packages (from typer<1.0,>=0.12->gradio) (1.5.4)\n",
            "Requirement already satisfied: rich>=10.11.0 in /usr/local/lib/python3.10/dist-packages (from typer<1.0,>=0.12->gradio) (13.8.1)\n",
            "Requirement already satisfied: six>=1.5 in /usr/local/lib/python3.10/dist-packages (from python-dateutil>=2.7->matplotlib~=3.0->gradio) (1.16.0)\n",
            "Requirement already satisfied: markdown-it-py>=2.2.0 in /usr/local/lib/python3.10/dist-packages (from rich>=10.11.0->typer<1.0,>=0.12->gradio) (3.0.0)\n",
            "Requirement already satisfied: pygments<3.0.0,>=2.13.0 in /usr/local/lib/python3.10/dist-packages (from rich>=10.11.0->typer<1.0,>=0.12->gradio) (2.18.0)\n",
            "Requirement already satisfied: charset-normalizer<4,>=2 in /usr/local/lib/python3.10/dist-packages (from requests->huggingface-hub>=0.19.3->gradio) (3.3.2)\n",
            "Requirement already satisfied: mdurl~=0.1 in /usr/local/lib/python3.10/dist-packages (from markdown-it-py>=2.2.0->rich>=10.11.0->typer<1.0,>=0.12->gradio) (0.1.2)\n",
            "Downloading gradio-4.44.1-py3-none-any.whl (18.1 MB)\n",
            "\u001b[2K   \u001b[90m━━━━━━━━━━━━━━━━━━━━━━━━━━━━━━━━━━━━━━━━\u001b[0m \u001b[32m18.1/18.1 MB\u001b[0m \u001b[31m101.2 MB/s\u001b[0m eta \u001b[36m0:00:00\u001b[0m\n",
            "\u001b[?25hDownloading gradio_client-1.3.0-py3-none-any.whl (318 kB)\n",
            "\u001b[2K   \u001b[90m━━━━━━━━━━━━━━━━━━━━━━━━━━━━━━━━━━━━━━━━\u001b[0m \u001b[32m318.7/318.7 kB\u001b[0m \u001b[31m25.2 MB/s\u001b[0m eta \u001b[36m0:00:00\u001b[0m\n",
            "\u001b[?25hDownloading tomlkit-0.12.0-py3-none-any.whl (37 kB)\n",
            "Downloading aiofiles-23.2.1-py3-none-any.whl (15 kB)\n",
            "Downloading fastapi-0.115.0-py3-none-any.whl (94 kB)\n",
            "\u001b[2K   \u001b[90m━━━━━━━━━━━━━━━━━━━━━━━━━━━━━━━━━━━━━━━━\u001b[0m \u001b[32m94.6/94.6 kB\u001b[0m \u001b[31m7.3 MB/s\u001b[0m eta \u001b[36m0:00:00\u001b[0m\n",
            "\u001b[?25hDownloading httpx-0.27.2-py3-none-any.whl (76 kB)\n",
            "\u001b[2K   \u001b[90m━━━━━━━━━━━━━━━━━━━━━━━━━━━━━━━━━━━━━━━━\u001b[0m \u001b[32m76.4/76.4 kB\u001b[0m \u001b[31m4.9 MB/s\u001b[0m eta \u001b[36m0:00:00\u001b[0m\n",
            "\u001b[?25hDownloading httpcore-1.0.6-py3-none-any.whl (78 kB)\n",
            "\u001b[2K   \u001b[90m━━━━━━━━━━━━━━━━━━━━━━━━━━━━━━━━━━━━━━━━\u001b[0m \u001b[32m78.0/78.0 kB\u001b[0m \u001b[31m5.8 MB/s\u001b[0m eta \u001b[36m0:00:00\u001b[0m\n",
            "\u001b[?25hDownloading orjson-3.10.7-cp310-cp310-manylinux_2_17_x86_64.manylinux2014_x86_64.whl (141 kB)\n",
            "\u001b[2K   \u001b[90m━━━━━━━━━━━━━━━━━━━━━━━━━━━━━━━━━━━━━━━━\u001b[0m \u001b[32m141.9/141.9 kB\u001b[0m \u001b[31m12.4 MB/s\u001b[0m eta \u001b[36m0:00:00\u001b[0m\n",
            "\u001b[?25hDownloading python_multipart-0.0.12-py3-none-any.whl (23 kB)\n",
            "Downloading ruff-0.6.8-py3-none-manylinux_2_17_x86_64.manylinux2014_x86_64.whl (10.9 MB)\n",
            "\u001b[2K   \u001b[90m━━━━━━━━━━━━━━━━━━━━━━━━━━━━━━━━━━━━━━━━\u001b[0m \u001b[32m10.9/10.9 MB\u001b[0m \u001b[31m116.8 MB/s\u001b[0m eta \u001b[36m0:00:00\u001b[0m\n",
            "\u001b[?25hDownloading semantic_version-2.10.0-py2.py3-none-any.whl (15 kB)\n",
            "Downloading uvicorn-0.31.0-py3-none-any.whl (63 kB)\n",
            "\u001b[2K   \u001b[90m━━━━━━━━━━━━━━━━━━━━━━━━━━━━━━━━━━━━━━━━\u001b[0m \u001b[32m63.7/63.7 kB\u001b[0m \u001b[31m4.8 MB/s\u001b[0m eta \u001b[36m0:00:00\u001b[0m\n",
            "\u001b[?25hDownloading ffmpy-0.4.0-py3-none-any.whl (5.8 kB)\n",
            "Downloading pydub-0.25.1-py2.py3-none-any.whl (32 kB)\n",
            "Downloading h11-0.14.0-py3-none-any.whl (58 kB)\n",
            "\u001b[2K   \u001b[90m━━━━━━━━━━━━━━━━━━━━━━━━━━━━━━━━━━━━━━━━\u001b[0m \u001b[32m58.3/58.3 kB\u001b[0m \u001b[31m4.6 MB/s\u001b[0m eta \u001b[36m0:00:00\u001b[0m\n",
            "\u001b[?25hDownloading starlette-0.38.6-py3-none-any.whl (71 kB)\n",
            "\u001b[2K   \u001b[90m━━━━━━━━━━━━━━━━━━━━━━━━━━━━━━━━━━━━━━━━\u001b[0m \u001b[32m71.5/71.5 kB\u001b[0m \u001b[31m5.5 MB/s\u001b[0m eta \u001b[36m0:00:00\u001b[0m\n",
            "\u001b[?25hDownloading websockets-12.0-cp310-cp310-manylinux_2_5_x86_64.manylinux1_x86_64.manylinux_2_17_x86_64.manylinux2014_x86_64.whl (130 kB)\n",
            "\u001b[2K   \u001b[90m━━━━━━━━━━━━━━━━━━━━━━━━━━━━━━━━━━━━━━━━\u001b[0m \u001b[32m130.2/130.2 kB\u001b[0m \u001b[31m11.1 MB/s\u001b[0m eta \u001b[36m0:00:00\u001b[0m\n",
            "\u001b[?25hInstalling collected packages: pydub, websockets, tomlkit, semantic-version, ruff, python-multipart, orjson, h11, ffmpy, aiofiles, uvicorn, starlette, httpcore, httpx, fastapi, gradio-client, gradio\n",
            "Successfully installed aiofiles-23.2.1 fastapi-0.115.0 ffmpy-0.4.0 gradio-4.44.1 gradio-client-1.3.0 h11-0.14.0 httpcore-1.0.6 httpx-0.27.2 orjson-3.10.7 pydub-0.25.1 python-multipart-0.0.12 ruff-0.6.8 semantic-version-2.10.0 starlette-0.38.6 tomlkit-0.12.0 uvicorn-0.31.0 websockets-12.0\n"
          ]
        }
      ],
      "source": [
        "pip install gradio"
      ]
    },
    {
      "cell_type": "code",
      "execution_count": null,
      "metadata": {
        "id": "7AZxiCfvICEv"
      },
      "outputs": [],
      "source": [
        "import pickle\n",
        "import sklearn_crfsuite\n",
        "import gradio as gr\n",
        "\n",
        "# Test sentence for prediction\n",
        "test_sent = [('The', ''), ('quick', ''), ('brown', ''), ('fox', ''), ('jumps', ''), ('over', ''), ('the', ''), ('lazy', ''), ('dog', '')]\n",
        "X_test = sent2features(test_sent)\n",
        "\n",
        "# Save the CRF model to a pickle file after training (only needs to be done once)\n",
        "def save_crf_model(crf):\n",
        "    with open('crf_model.pkl', 'wb') as f:\n",
        "        pickle.dump(crf, f)\n",
        "    print(\"CRF model saved!\")\n",
        "\n",
        "# Load the CRF model from a pickle file for reuse\n",
        "def load_crf_model():\n",
        "    with open('crf_model.pkl', 'rb') as f:\n",
        "        return pickle.load(f)\n",
        "\n",
        "# Save model after training (run this after training the model)\n",
        "save_crf_model(crf)\n",
        "\n",
        "# Load the CRF model\n",
        "crf_model_load = load_crf_model()\n",
        "\n",
        "# Predict using the loaded CRF model\n",
        "def tag_sentence(input_sentence):\n",
        "    words = input_sentence.split()  # Split the sentence into words\n",
        "    result = [(word, '') for word in words]  # Create a tuple for each word\n",
        "    return crf_model_load.predict_single(sent2features(result))\n",
        "\n",
        "# Gradio interface for POS tagging\n",
        "interface = gr.Interface(\n",
        "    fn=tag_sentence,                     # Your POS tagging function\n",
        "    inputs=\"text\",                        # Takes a text input\n",
        "    outputs=\"json\",                       # Outputs in JSON format (word, POS tag pairs)\n",
        "    title=\"Parts of Speech Tagging Tool\", # Interface title\n",
        "    description=\"Enter a sentence to see its parts of speech tags.\",\n",
        ")\n",
        "\n",
        "# Launch the interface\n",
        "interface.launch(share=True)"
      ]
    },
    {
      "cell_type": "code",
      "execution_count": null,
      "metadata": {
        "colab": {
          "base_uri": "https://localhost:8080/"
        },
        "id": "_4essj33b_iP",
        "outputId": "20a68af1-303e-4cbc-e213-66cb43705579"
      },
      "outputs": [
        {
          "name": "stdout",
          "output_type": "stream",
          "text": [
            "[('The', 'DET'), ('quick', 'ADJ'), ('brown', 'NOUN'), ('fox', 'NOUN'), ('jumps', 'NOUN'), ('over', 'ADP'), ('the', 'DET'), ('lazy', 'ADJ'), ('dog', 'NOUN')]\n"
          ]
        }
      ],
      "source": [
        "test_sent = [('The', ''), ('quick', ''), ('brown', ''), ('fox', ''), ('jumps', ''), ('over', ''), ('the', ''), ('lazy', ''), ('dog', '')]\n",
        "X_test = sent2features(test_sent)\n",
        "y_pred = crf.predict_single(X_test)\n",
        "print(list(zip(sent2tokens(test_sent), y_pred)))"
      ]
    },
    {
      "cell_type": "markdown",
      "metadata": {
        "id": "ciAopTuAPTvy"
      },
      "source": [
        "# HMM Vs CRF COMPARISON"
      ]
    },
    {
      "cell_type": "code",
      "execution_count": null,
      "metadata": {
        "id": "rkHz22NQb_e8"
      },
      "outputs": [],
      "source": [
        "sentences = [\n",
        "    \"The quick brown fox jumps over the lazy dog.\",\n",
        "    \"She sells sea shells by the sea shore.\",\n",
        "    \"A watched pot never boils.\",\n",
        "    \"The sun sets in the west.\",\n",
        "    \"John gave Mary a bouquet of roses.\",\n",
        "    \"I will meet you at the park tomorrow evening.\",\n",
        "    \"Can you help me with my homework?\",\n",
        "    \"The book on the table belongs to Sarah.\",\n",
        "    \"The cat chased the mouse across the garden.\",\n",
        "    \"They are going to the movies tonight.\",\n",
        "    \"It is raining heavily outside.\",\n",
        "    \"The man walked his dog in the park.\",\n",
        "    \"The cake tastes better with fresh strawberries.\",\n",
        "    \"Please bring me a cup of coffee with sugar.\",\n",
        "    \"The phone rang, but nobody answered.\",\n",
        "    \"He plays the piano beautifully.\",\n",
        "    \"The children are playing in the yard.\",\n",
        "    \"I forgot to lock the door before leaving.\",\n",
        "    \"The teacher gave us a lot of homework.\",\n",
        "    \"He wants to learn how to drive a car.\",\n",
        "    \"The plane will land in about an hour.\",\n",
        "    \"I have never been to Paris.\",\n",
        "    \"She enjoys reading mystery novels.\",\n",
        "    \"We will go hiking this weekend.\",\n",
        "    \"The concert was absolutely amazing.\",\n",
        "    \"I would like to order a pizza.\",\n",
        "    \"The sun rises in the east.\",\n",
        "    \"They are building a new bridge over the river.\",\n",
        "    \"I need to finish my project by tomorrow.\",\n",
        "    \"The flowers in the garden are blooming.\",\n",
        "    \"The baby is sleeping in the crib.\",\n",
        "    \"We had a great time at the party last night.\",\n",
        "    \"He can solve complex mathematical problems.\",\n",
        "    \"The book was published last year.\",\n",
        "    \"They are planning a trip to Japan next summer.\",\n",
        "    \"I like to watch movies on the weekends.\",\n",
        "    \"The car broke down on the highway.\",\n",
        "    \"She is an excellent dancer.\",\n",
        "    \"He always forgets to water the plants.\",\n",
        "    \"I bought a new laptop yesterday.\",\n",
        "    \"The sky is clear and blue today.\",\n",
        "    \"I need to call my mom to check on her.\",\n",
        "    \"They are discussing the new project in the meeting.\",\n",
        "    \"The store opens at 9 AM every day.\",\n",
        "    \"We are going to the beach this weekend.\",\n",
        "    \"She is writing a letter to her friend.\",\n",
        "    \"He runs five miles every morning.\",\n",
        "    \"The train is arriving at the station.\",\n",
        "    \"The restaurant serves delicious Italian food.\",\n",
        "    \"I am reading a book about space exploration.\"\n",
        "]"
      ]
    },
    {
      "cell_type": "code",
      "execution_count": null,
      "metadata": {
        "id": "zU73gWMfb_dh"
      },
      "outputs": [],
      "source": [
        "correct_pos_tags = [\n",
        "    ['DET', 'ADJ', 'NOUN', 'VERB', 'ADP', 'DET', 'ADJ', 'NOUN', 'PUNCT'],\n",
        "    ['DET', 'NOUN', 'VERB', 'ADP', 'DET', 'NOUN', 'PUNCT'],\n",
        "    ['PRON', 'VERB', 'DET', 'NOUN', 'ADV', 'PUNCT'],\n",
        "    ['NOUN', 'VERB', 'ADP', 'NOUN', 'ADV', 'PUNCT'],\n",
        "    ['PRON', 'VERB', 'DET', 'ADJ', 'NOUN', 'PUNCT'],\n",
        "    ['DET', 'NOUN', 'VERB', 'ADP', 'DET', 'NOUN', 'PUNCT'],\n",
        "    ['PRON', 'VERB', 'DET', 'NOUN', 'ADP', 'DET', 'NOUN', 'PUNCT'],\n",
        "    ['ADV', 'VERB', 'ADP', 'DET', 'NOUN', 'PUNCT'],\n",
        "    ['PRON', 'VERB', 'PRT', 'VERB', 'DET', 'NOUN', 'PUNCT'],\n",
        "    ['PRON', 'AUX', 'VERB', 'DET', 'NOUN', 'PUNCT'],\n",
        "    ['PRON', 'VERB', 'DET', 'NOUN', 'ADV', 'PUNCT'],\n",
        "    ['PRON', 'VERB', 'ADJ', 'NOUN', 'PUNCT'],\n",
        "    ['DET', 'NOUN', 'VERB', 'DET', 'NOUN', 'ADP', 'DET', 'NOUN', 'PUNCT'],\n",
        "    ['PRON', 'VERB', 'DET', 'ADJ', 'NOUN', 'PUNCT'],\n",
        "    ['PRON', 'VERB', 'ADP', 'DET', 'NOUN', 'PUNCT'],\n",
        "    ['PRON', 'VERB', 'ADV', 'ADP', 'DET', 'NOUN', 'PUNCT'],\n",
        "    ['PRON', 'VERB', 'DET', 'NOUN', 'PUNCT'],\n",
        "    ['DET', 'NOUN', 'VERB', 'ADV', 'ADP', 'DET', 'NOUN', 'PUNCT'],\n",
        "    ['PRON', 'VERB', 'DET', 'NOUN', 'PUNCT'],\n",
        "    ['PRON', 'AUX', 'VERB', 'DET', 'NOUN', 'PUNCT'],\n",
        "    ['DET', 'NOUN', 'VERB', 'DET', 'NOUN', 'ADP', 'DET', 'NOUN', 'PUNCT'],\n",
        "    ['PRON', 'VERB', 'ADV', 'ADP', 'DET', 'NOUN', 'PUNCT'],\n",
        "    ['PRON', 'VERB', 'DET', 'NOUN', 'PUNCT'],\n",
        "    ['PRON', 'AUX', 'VERB', 'DET', 'ADJ', 'NOUN', 'PUNCT'],\n",
        "    ['PRON', 'VERB', 'DET', 'NOUN', 'ADP', 'DET', 'NOUN', 'PUNCT'],\n",
        "    ['ADV', 'VERB', 'DET', 'NOUN', 'ADP', 'DET', 'NOUN', 'PUNCT'],\n",
        "    ['PRON', 'VERB', 'PRT', 'VERB', 'DET', 'NOUN', 'PUNCT'],\n",
        "    ['DET', 'NOUN', 'VERB', 'ADP', 'DET', 'NOUN', 'PUNCT'],\n",
        "    ['PRON', 'VERB', 'DET', 'NOUN', 'ADP', 'DET', 'ADJ', 'NOUN', 'PUNCT'],\n",
        "    ['PRON', 'AUX', 'VERB', 'ADV', 'PUNCT'],\n",
        "    ['PRON', 'VERB', 'ADJ', 'NOUN', 'PUNCT'],\n",
        "    ['PRON', 'VERB', 'DET', 'NOUN', 'PUNCT'],\n",
        "    ['ADV', 'VERB', 'ADP', 'DET', 'NOUN', 'PUNCT'],\n",
        "    ['PRON', 'AUX', 'VERB', 'DET', 'NOUN', 'ADP', 'DET', 'NOUN', 'PUNCT'],\n",
        "    ['DET', 'NOUN', 'VERB', 'DET', 'NOUN', 'ADP', 'DET', 'NOUN', 'PUNCT'],\n",
        "    ['PRON', 'VERB', 'ADV', 'ADP', 'DET', 'NOUN', 'PUNCT'],\n",
        "    ['PRON', 'AUX', 'VERB', 'DET', 'NOUN', 'PUNCT'],\n",
        "    ['PRON', 'VERB', 'ADV', 'PUNCT'],\n",
        "    ['PRON', 'VERB', 'DET', 'ADJ', 'NOUN', 'PUNCT'],\n",
        "    ['PRON', 'VERB', 'DET', 'NOUN', 'PUNCT'],\n",
        "    ['DET', 'NOUN', 'VERB', 'ADV', 'ADP', 'DET', 'NOUN', 'PUNCT'],\n",
        "    ['PRON', 'AUX', 'VERB', 'DET', 'NOUN', 'PUNCT'],\n",
        "    ['DET', 'NOUN', 'VERB', 'DET', 'ADJ', 'NOUN', 'PUNCT'],\n",
        "    ['PRON', 'VERB', 'DET', 'NOUN', 'PUNCT'],\n",
        "    ['PRON', 'VERB', 'ADV', 'ADP', 'DET', 'NOUN', 'PUNCT'],\n",
        "    ['PRON', 'AUX', 'VERB', 'DET', 'ADJ', 'NOUN', 'PUNCT'],\n",
        "    ['PRON', 'VERB', 'ADV', 'ADP', 'DET', 'NOUN', 'PUNCT'],\n",
        "    ['DET', 'NOUN', 'VERB', 'DET', 'NOUN', 'ADP', 'DET', 'NOUN', 'PUNCT'],\n",
        "    ['PRON', 'VERB', 'DET', 'ADJ', 'NOUN', 'PUNCT']\n",
        "]"
      ]
    },
    {
      "cell_type": "code",
      "execution_count": null,
      "metadata": {
        "id": "4-cQ731rs5f_"
      },
      "outputs": [],
      "source": [
        "# This is just to keep the runtime"
      ]
    },
    {
      "cell_type": "code",
      "execution_count": null,
      "metadata": {
        "colab": {
          "base_uri": "https://localhost:8080/",
          "height": 332
        },
        "id": "GunRWXqjP5tc",
        "outputId": "59acce6f-60dc-4b30-9eb4-29d5648d229c"
      },
      "outputs": [
        {
          "ename": "NameError",
          "evalue": "name 'Last_POS_tag_counts' is not defined",
          "output_type": "error",
          "traceback": [
            "\u001b[0;31m---------------------------------------------------------------------------\u001b[0m",
            "\u001b[0;31mNameError\u001b[0m                                 Traceback (most recent call last)",
            "\u001b[0;32m<ipython-input-11-40b84a23d002>\u001b[0m in \u001b[0;36m<cell line: 17>\u001b[0;34m()\u001b[0m\n\u001b[1;32m     17\u001b[0m \u001b[0;32mfor\u001b[0m \u001b[0mi\u001b[0m\u001b[0;34m,\u001b[0m \u001b[0msentence\u001b[0m \u001b[0;32min\u001b[0m \u001b[0menumerate\u001b[0m\u001b[0;34m(\u001b[0m\u001b[0msentences\u001b[0m\u001b[0;34m)\u001b[0m\u001b[0;34m:\u001b[0m\u001b[0;34m\u001b[0m\u001b[0;34m\u001b[0m\u001b[0m\n\u001b[1;32m     18\u001b[0m     \u001b[0;31m# Get POS tags using HMM model\u001b[0m\u001b[0;34m\u001b[0m\u001b[0;34m\u001b[0m\u001b[0m\n\u001b[0;32m---> 19\u001b[0;31m     \u001b[0mhmm_pos_tags\u001b[0m \u001b[0;34m=\u001b[0m \u001b[0mhmm_predict\u001b[0m\u001b[0;34m(\u001b[0m\u001b[0msentence\u001b[0m\u001b[0;34m)\u001b[0m\u001b[0;34m\u001b[0m\u001b[0;34m\u001b[0m\u001b[0m\n\u001b[0m\u001b[1;32m     20\u001b[0m     \u001b[0mhmm_predictions\u001b[0m\u001b[0;34m.\u001b[0m\u001b[0mappend\u001b[0m\u001b[0;34m(\u001b[0m\u001b[0mhmm_pos_tags\u001b[0m\u001b[0;34m)\u001b[0m\u001b[0;34m\u001b[0m\u001b[0;34m\u001b[0m\u001b[0m\n\u001b[1;32m     21\u001b[0m \u001b[0;34m\u001b[0m\u001b[0m\n",
            "\u001b[0;32m<ipython-input-11-40b84a23d002>\u001b[0m in \u001b[0;36mhmm_predict\u001b[0;34m(sentence)\u001b[0m\n\u001b[1;32m      2\u001b[0m     \u001b[0;31m# Process the sentence according to HMM input requirements (add start and end tokens)\u001b[0m\u001b[0;34m\u001b[0m\u001b[0;34m\u001b[0m\u001b[0m\n\u001b[1;32m      3\u001b[0m     \u001b[0msentence\u001b[0m \u001b[0;34m=\u001b[0m \u001b[0;34m[\u001b[0m\u001b[0;34m'^'\u001b[0m\u001b[0;34m]\u001b[0m \u001b[0;34m+\u001b[0m \u001b[0msentence\u001b[0m\u001b[0;34m.\u001b[0m\u001b[0mlower\u001b[0m\u001b[0;34m(\u001b[0m\u001b[0;34m)\u001b[0m\u001b[0;34m.\u001b[0m\u001b[0msplit\u001b[0m\u001b[0;34m(\u001b[0m\u001b[0;34m)\u001b[0m \u001b[0;34m+\u001b[0m \u001b[0;34m[\u001b[0m\u001b[0;34m'$'\u001b[0m\u001b[0;34m]\u001b[0m\u001b[0;34m\u001b[0m\u001b[0;34m\u001b[0m\u001b[0m\n\u001b[0;32m----> 4\u001b[0;31m     \u001b[0mhmm_tags\u001b[0m \u001b[0;34m=\u001b[0m \u001b[0mViterbi_Algorithm\u001b[0m\u001b[0;34m(\u001b[0m\u001b[0msentence\u001b[0m\u001b[0;34m,\u001b[0m \u001b[0mLast_POS_tag_counts\u001b[0m\u001b[0;34m,\u001b[0m \u001b[0mLast_word_pos_tags\u001b[0m\u001b[0;34m,\u001b[0m \u001b[0mLast_Tag_transition_count\u001b[0m\u001b[0;34m)\u001b[0m\u001b[0;34m\u001b[0m\u001b[0;34m\u001b[0m\u001b[0m\n\u001b[0m\u001b[1;32m      5\u001b[0m     \u001b[0;32mreturn\u001b[0m \u001b[0mhmm_tags\u001b[0m\u001b[0;34m[\u001b[0m\u001b[0;36m1\u001b[0m\u001b[0;34m:\u001b[0m\u001b[0;34m-\u001b[0m\u001b[0;36m1\u001b[0m\u001b[0;34m]\u001b[0m  \u001b[0;31m# Remove start (^) and end ($) tags\u001b[0m\u001b[0;34m\u001b[0m\u001b[0;34m\u001b[0m\u001b[0m\n\u001b[1;32m      6\u001b[0m \u001b[0;34m\u001b[0m\u001b[0m\n",
            "\u001b[0;31mNameError\u001b[0m: name 'Last_POS_tag_counts' is not defined"
          ]
        }
      ],
      "source": [
        "def hmm_predict(sentence):\n",
        "    # Process the sentence according to HMM input requirements (add start and end tokens)\n",
        "    sentence = ['^'] + sentence.lower().split() + ['$']\n",
        "    hmm_tags = Viterbi_Algorithm(sentence, Last_POS_tag_counts, Last_word_pos_tags, Last_Tag_transition_count)\n",
        "    return hmm_tags[1:-1]  # Remove start (^) and end ($) tags\n",
        "\n",
        "# For CRF\n",
        "def crf_predict(sentence):\n",
        "    sentence_tokenized = [(word, '') for word in sentence.split()]\n",
        "    sentence_features = sent2features(sentence_tokenized)\n",
        "    return crf.predict_single(sentence_features)\n",
        "\n",
        "hmm_predictions = []\n",
        "crf_predictions = []\n",
        "\n",
        "# Loop over the 50 sentences and store the predictions for both models\n",
        "for i, sentence in enumerate(sentences):\n",
        "    # Get POS tags using HMM model\n",
        "    hmm_pos_tags = hmm_predict(sentence)\n",
        "    hmm_predictions.append(hmm_pos_tags)\n",
        "\n",
        "    # Get POS tags using CRF model\n",
        "    crf_pos_tags = crf_predict(sentence)\n",
        "    crf_predictions.append(crf_pos_tags)\n",
        "\n",
        "# Flatten the lists of predictions and correct tags to evaluate overall accuracy and recall\n",
        "flat_correct_tags = [tag for sent_tags in correct_pos_tags for tag in sent_tags]\n",
        "flat_hmm_predictions = [tag for pred_tags in hmm_predictions for tag in pred_tags]\n",
        "flat_crf_predictions = [tag for pred_tags in crf_predictions for tag in pred_tags]\n",
        "\n",
        "# Calculate overall accuracy\n",
        "hmm_accuracy = accuracy_score(flat_correct_tags, flat_hmm_predictions)\n",
        "crf_accuracy = accuracy_score(flat_correct_tags, flat_crf_predictions)\n",
        "\n",
        "# Calculate overall recall\n",
        "hmm_recall = recall_score(flat_correct_tags, flat_hmm_predictions, average='weighted', zero_division=0)\n",
        "crf_recall = recall_score(flat_correct_tags, flat_crf_predictions, average='weighted', zero_division=0)\n",
        "\n",
        "# Print overall metrics\n",
        "print(f\"Overall HMM Accuracy: {hmm_accuracy}\")\n",
        "print(f\"Overall CRF Accuracy: {crf_accuracy}\")\n",
        "print(f\"Overall HMM Recall: {hmm_recall}\")\n",
        "print(f\"Overall CRF Recall: {crf_recall}\")"
      ]
    },
    {
      "cell_type": "code",
      "execution_count": null,
      "metadata": {
        "id": "-eLWsVQdS_6V"
      },
      "outputs": [],
      "source": []
    }
  ],
  "metadata": {
    "accelerator": "GPU",
    "colab": {
      "gpuType": "T4",
      "provenance": []
    },
    "kernelspec": {
      "display_name": "Python 3",
      "name": "python3"
    },
    "language_info": {
      "name": "python"
    }
  },
  "nbformat": 4,
  "nbformat_minor": 0
}